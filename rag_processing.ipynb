{
 "cells": [
  {
   "cell_type": "code",
   "execution_count": 4,
   "metadata": {},
   "outputs": [
    {
     "name": "stdout",
     "output_type": "stream",
     "text": [
      "[page 1 of content/train_source/1-1 2024 주요 재정통계 1권.pdf, page 2 of content/train_source/1-1 2024 주요 재정통계 1권.pdf, page 3 of content/train_source/1-1 2024 주요 재정통계 1권.pdf, page 4 of content/train_source/1-1 2024 주요 재정통계 1권.pdf, page 5 of content/train_source/1-1 2024 주요 재정통계 1권.pdf, page 6 of content/train_source/1-1 2024 주요 재정통계 1권.pdf, page 7 of content/train_source/1-1 2024 주요 재정통계 1권.pdf, page 8 of content/train_source/1-1 2024 주요 재정통계 1권.pdf, page 9 of content/train_source/1-1 2024 주요 재정통계 1권.pdf, page 10 of content/train_source/1-1 2024 주요 재정통계 1권.pdf, page 11 of content/train_source/1-1 2024 주요 재정통계 1권.pdf, page 12 of content/train_source/1-1 2024 주요 재정통계 1권.pdf, page 13 of content/train_source/1-1 2024 주요 재정통계 1권.pdf, page 14 of content/train_source/1-1 2024 주요 재정통계 1권.pdf, page 15 of content/train_source/1-1 2024 주요 재정통계 1권.pdf, page 16 of content/train_source/1-1 2024 주요 재정통계 1권.pdf, page 17 of content/train_source/1-1 2024 주요 재정통계 1권.pdf, page 18 of content/train_source/1-1 2024 주요 재정통계 1권.pdf, page 19 of content/train_source/1-1 2024 주요 재정통계 1권.pdf, page 20 of content/train_source/1-1 2024 주요 재정통계 1권.pdf, page 21 of content/train_source/1-1 2024 주요 재정통계 1권.pdf, page 22 of content/train_source/1-1 2024 주요 재정통계 1권.pdf, page 23 of content/train_source/1-1 2024 주요 재정통계 1권.pdf, page 24 of content/train_source/1-1 2024 주요 재정통계 1권.pdf, page 25 of content/train_source/1-1 2024 주요 재정통계 1권.pdf, page 26 of content/train_source/1-1 2024 주요 재정통계 1권.pdf, page 27 of content/train_source/1-1 2024 주요 재정통계 1권.pdf, page 28 of content/train_source/1-1 2024 주요 재정통계 1권.pdf, page 29 of content/train_source/1-1 2024 주요 재정통계 1권.pdf, page 30 of content/train_source/1-1 2024 주요 재정통계 1권.pdf, page 31 of content/train_source/1-1 2024 주요 재정통계 1권.pdf, page 32 of content/train_source/1-1 2024 주요 재정통계 1권.pdf, page 33 of content/train_source/1-1 2024 주요 재정통계 1권.pdf, page 34 of content/train_source/1-1 2024 주요 재정통계 1권.pdf, page 35 of content/train_source/1-1 2024 주요 재정통계 1권.pdf, page 36 of content/train_source/1-1 2024 주요 재정통계 1권.pdf, page 37 of content/train_source/1-1 2024 주요 재정통계 1권.pdf, page 38 of content/train_source/1-1 2024 주요 재정통계 1권.pdf, page 39 of content/train_source/1-1 2024 주요 재정통계 1권.pdf, page 40 of content/train_source/1-1 2024 주요 재정통계 1권.pdf, page 41 of content/train_source/1-1 2024 주요 재정통계 1권.pdf, page 42 of content/train_source/1-1 2024 주요 재정통계 1권.pdf, page 43 of content/train_source/1-1 2024 주요 재정통계 1권.pdf, page 44 of content/train_source/1-1 2024 주요 재정통계 1권.pdf, page 45 of content/train_source/1-1 2024 주요 재정통계 1권.pdf, page 46 of content/train_source/1-1 2024 주요 재정통계 1권.pdf, page 47 of content/train_source/1-1 2024 주요 재정통계 1권.pdf, page 48 of content/train_source/1-1 2024 주요 재정통계 1권.pdf, page 49 of content/train_source/1-1 2024 주요 재정통계 1권.pdf, page 50 of content/train_source/1-1 2024 주요 재정통계 1권.pdf, page 51 of content/train_source/1-1 2024 주요 재정통계 1권.pdf, page 52 of content/train_source/1-1 2024 주요 재정통계 1권.pdf, page 53 of content/train_source/1-1 2024 주요 재정통계 1권.pdf, page 54 of content/train_source/1-1 2024 주요 재정통계 1권.pdf, page 55 of content/train_source/1-1 2024 주요 재정통계 1권.pdf, page 56 of content/train_source/1-1 2024 주요 재정통계 1권.pdf, page 57 of content/train_source/1-1 2024 주요 재정통계 1권.pdf, page 58 of content/train_source/1-1 2024 주요 재정통계 1권.pdf, page 59 of content/train_source/1-1 2024 주요 재정통계 1권.pdf, page 60 of content/train_source/1-1 2024 주요 재정통계 1권.pdf, page 61 of content/train_source/1-1 2024 주요 재정통계 1권.pdf, page 62 of content/train_source/1-1 2024 주요 재정통계 1권.pdf, page 63 of content/train_source/1-1 2024 주요 재정통계 1권.pdf, page 64 of content/train_source/1-1 2024 주요 재정통계 1권.pdf, page 65 of content/train_source/1-1 2024 주요 재정통계 1권.pdf, page 66 of content/train_source/1-1 2024 주요 재정통계 1권.pdf, page 67 of content/train_source/1-1 2024 주요 재정통계 1권.pdf, page 68 of content/train_source/1-1 2024 주요 재정통계 1권.pdf, page 69 of content/train_source/1-1 2024 주요 재정통계 1권.pdf, page 70 of content/train_source/1-1 2024 주요 재정통계 1권.pdf, page 71 of content/train_source/1-1 2024 주요 재정통계 1권.pdf, page 72 of content/train_source/1-1 2024 주요 재정통계 1권.pdf, page 73 of content/train_source/1-1 2024 주요 재정통계 1권.pdf, page 74 of content/train_source/1-1 2024 주요 재정통계 1권.pdf, page 75 of content/train_source/1-1 2024 주요 재정통계 1권.pdf, page 76 of content/train_source/1-1 2024 주요 재정통계 1권.pdf, page 77 of content/train_source/1-1 2024 주요 재정통계 1권.pdf, page 78 of content/train_source/1-1 2024 주요 재정통계 1권.pdf, page 79 of content/train_source/1-1 2024 주요 재정통계 1권.pdf, page 80 of content/train_source/1-1 2024 주요 재정통계 1권.pdf, page 81 of content/train_source/1-1 2024 주요 재정통계 1권.pdf, page 82 of content/train_source/1-1 2024 주요 재정통계 1권.pdf, page 83 of content/train_source/1-1 2024 주요 재정통계 1권.pdf, page 84 of content/train_source/1-1 2024 주요 재정통계 1권.pdf, page 85 of content/train_source/1-1 2024 주요 재정통계 1권.pdf, page 86 of content/train_source/1-1 2024 주요 재정통계 1권.pdf, page 87 of content/train_source/1-1 2024 주요 재정통계 1권.pdf, page 88 of content/train_source/1-1 2024 주요 재정통계 1권.pdf, page 89 of content/train_source/1-1 2024 주요 재정통계 1권.pdf, page 90 of content/train_source/1-1 2024 주요 재정통계 1권.pdf, page 91 of content/train_source/1-1 2024 주요 재정통계 1권.pdf, page 92 of content/train_source/1-1 2024 주요 재정통계 1권.pdf, page 93 of content/train_source/1-1 2024 주요 재정통계 1권.pdf, page 94 of content/train_source/1-1 2024 주요 재정통계 1권.pdf, page 95 of content/train_source/1-1 2024 주요 재정통계 1권.pdf, page 96 of content/train_source/1-1 2024 주요 재정통계 1권.pdf, page 97 of content/train_source/1-1 2024 주요 재정통계 1권.pdf, page 98 of content/train_source/1-1 2024 주요 재정통계 1권.pdf, page 99 of content/train_source/1-1 2024 주요 재정통계 1권.pdf, page 100 of content/train_source/1-1 2024 주요 재정통계 1권.pdf, page 101 of content/train_source/1-1 2024 주요 재정통계 1권.pdf, page 102 of content/train_source/1-1 2024 주요 재정통계 1권.pdf, page 103 of content/train_source/1-1 2024 주요 재정통계 1권.pdf, page 104 of content/train_source/1-1 2024 주요 재정통계 1권.pdf, page 105 of content/train_source/1-1 2024 주요 재정통계 1권.pdf, page 106 of content/train_source/1-1 2024 주요 재정통계 1권.pdf, page 107 of content/train_source/1-1 2024 주요 재정통계 1권.pdf, page 108 of content/train_source/1-1 2024 주요 재정통계 1권.pdf, page 109 of content/train_source/1-1 2024 주요 재정통계 1권.pdf, page 110 of content/train_source/1-1 2024 주요 재정통계 1권.pdf, page 111 of content/train_source/1-1 2024 주요 재정통계 1권.pdf, page 112 of content/train_source/1-1 2024 주요 재정통계 1권.pdf, page 113 of content/train_source/1-1 2024 주요 재정통계 1권.pdf, page 114 of content/train_source/1-1 2024 주요 재정통계 1권.pdf, page 115 of content/train_source/1-1 2024 주요 재정통계 1권.pdf, page 116 of content/train_source/1-1 2024 주요 재정통계 1권.pdf, page 117 of content/train_source/1-1 2024 주요 재정통계 1권.pdf, page 118 of content/train_source/1-1 2024 주요 재정통계 1권.pdf, page 119 of content/train_source/1-1 2024 주요 재정통계 1권.pdf, page 120 of content/train_source/1-1 2024 주요 재정통계 1권.pdf, page 121 of content/train_source/1-1 2024 주요 재정통계 1권.pdf, page 122 of content/train_source/1-1 2024 주요 재정통계 1권.pdf, page 123 of content/train_source/1-1 2024 주요 재정통계 1권.pdf, page 124 of content/train_source/1-1 2024 주요 재정통계 1권.pdf, page 125 of content/train_source/1-1 2024 주요 재정통계 1권.pdf, page 126 of content/train_source/1-1 2024 주요 재정통계 1권.pdf, page 127 of content/train_source/1-1 2024 주요 재정통계 1권.pdf, page 128 of content/train_source/1-1 2024 주요 재정통계 1권.pdf, page 129 of content/train_source/1-1 2024 주요 재정통계 1권.pdf, page 130 of content/train_source/1-1 2024 주요 재정통계 1권.pdf, page 131 of content/train_source/1-1 2024 주요 재정통계 1권.pdf, page 132 of content/train_source/1-1 2024 주요 재정통계 1권.pdf, page 133 of content/train_source/1-1 2024 주요 재정통계 1권.pdf, page 134 of content/train_source/1-1 2024 주요 재정통계 1권.pdf, page 135 of content/train_source/1-1 2024 주요 재정통계 1권.pdf]\n"
     ]
    }
   ],
   "source": [
    "import fitz\n",
    "path = \"content/train_source/1-1 2024 주요 재정통계 1권.pdf\"\n",
    "doc = fitz.open(path)\n",
    "\n",
    "print(doc[1:-1])\n",
    "\n",
    "full_text = ''\n",
    "for page in doc[1:-1]:\n",
    "    text = page.get_text()\n",
    "    full_text += text"
   ]
  },
  {
   "cell_type": "code",
   "execution_count": 5,
   "metadata": {},
   "outputs": [],
   "source": [
    "f = open(\"test.txt\", \"w\")\n",
    "f.write(full_text)\n",
    "f.close()"
   ]
  }
 ],
 "metadata": {
  "kernelspec": {
   "display_name": "venv",
   "language": "python",
   "name": "python3"
  },
  "language_info": {
   "codemirror_mode": {
    "name": "ipython",
    "version": 3
   },
   "file_extension": ".py",
   "mimetype": "text/x-python",
   "name": "python",
   "nbconvert_exporter": "python",
   "pygments_lexer": "ipython3",
   "version": "3.10.12"
  }
 },
 "nbformat": 4,
 "nbformat_minor": 2
}
